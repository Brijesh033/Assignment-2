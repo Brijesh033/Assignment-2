{
 "cells": [
  {
   "cell_type": "markdown",
   "metadata": {},
   "source": [
    "# Task 1"
   ]
  },
  {
   "cell_type": "code",
   "execution_count": 1,
   "metadata": {},
   "outputs": [],
   "source": [
    "# 1.1\n",
    "def myreduce(func, lst):\n",
    "    x = lst[0]\n",
    "    for i in range(1, len(lst)):\n",
    "        x = func(x, lst[i])\n",
    "    return x\n",
    "\n",
    "    "
   ]
  },
  {
   "cell_type": "code",
   "execution_count": 6,
   "metadata": {},
   "outputs": [],
   "source": [
    "l = [1, 2, 3, 4, 5]\n",
    "def square(a, b):\n",
    "    return a*b"
   ]
  },
  {
   "cell_type": "code",
   "execution_count": 7,
   "metadata": {},
   "outputs": [
    {
     "data": {
      "text/plain": [
       "120"
      ]
     },
     "execution_count": 7,
     "metadata": {},
     "output_type": "execute_result"
    }
   ],
   "source": [
    "myreduce(square, l)"
   ]
  },
  {
   "cell_type": "code",
   "execution_count": 8,
   "metadata": {},
   "outputs": [
    {
     "data": {
      "text/plain": [
       "15"
      ]
     },
     "execution_count": 8,
     "metadata": {},
     "output_type": "execute_result"
    }
   ],
   "source": [
    "myreduce(lambda x,y : x+y, l)"
   ]
  },
  {
   "cell_type": "code",
   "execution_count": 3,
   "metadata": {},
   "outputs": [],
   "source": [
    "#1.2\n",
    "def myfilter(func, lst):\n",
    "    x= []\n",
    "    y= []\n",
    "    for i in range(len(lst)):\n",
    "        x.append(func(lst[i]))\n",
    "    for i in range(len(x)):\n",
    "        if x[i] == False:\n",
    "            continue\n",
    "        else:\n",
    "            y.append(x[i])\n",
    "    return y"
   ]
  },
  {
   "cell_type": "code",
   "execution_count": 6,
   "metadata": {},
   "outputs": [],
   "source": [
    "def even(l):\n",
    "    if l%2 == 0:\n",
    "        return l\n",
    "    else:\n",
    "        return False\n"
   ]
  },
  {
   "cell_type": "code",
   "execution_count": 7,
   "metadata": {},
   "outputs": [
    {
     "data": {
      "text/plain": [
       "[32, 54, 78, 98, 40]"
      ]
     },
     "execution_count": 7,
     "metadata": {},
     "output_type": "execute_result"
    }
   ],
   "source": [
    "l = [1, 32, 54, 45,65,78,98,77,23,41,40]\n",
    "myfilter(even,l)"
   ]
  },
  {
   "cell_type": "code",
   "execution_count": 20,
   "metadata": {},
   "outputs": [
    {
     "name": "stdout",
     "output_type": "stream",
     "text": [
      "['A', 'C', 'A', 'G', 'I', 'L', 'D']\n",
      "['x', 'xx', 'xxx', 'xxxx', 'y', 'yy', 'yyy', 'yyyy', 'z', 'zz', 'zzz', 'zzzz']\n",
      "['x', 'y', 'z', 'xx', 'yy', 'zz', 'xxx', 'yyy', 'zzz', 'xxxx', 'yyyy', 'zzzz']\n",
      "[[2], [3], [4], [3], [4], [5], [4], [5], [6]]\n",
      "[[2, 3, 4, 5], [3, 4, 5, 6], [4, 5, 6, 7], [5, 6, 7, 8]]\n",
      "[(1, 1), (2, 1), (3, 1), (1, 2), (2, 2), (3, 2), (1, 3), (2, 3), (3, 3)]\n"
     ]
    }
   ],
   "source": [
    "# 2 List comprehensions\n",
    "#\n",
    "b = [i for i in 'ACAGILD']\n",
    "print(b)\n",
    "\n",
    "#\n",
    "a = 'xyz'\n",
    "l = []\n",
    "for i in a:\n",
    "    l.append(i)\n",
    "    l.append(i*2)\n",
    "    l.append(i*3)\n",
    "    l.append(i*4)\n",
    "print(l)\n",
    "\n",
    "#\n",
    "l_1 = []\n",
    "for i in a:\n",
    "    l_1.append(i)\n",
    "for i in a:\n",
    "    l_1.append(i*2)\n",
    "for i in a:\n",
    "    l_1.append(i*3)\n",
    "for i in a:\n",
    "    l_1.append(i*4)\n",
    "print(l_1)\n",
    "\n",
    "#\n",
    "l_2 = []\n",
    "for i in range(2,5):\n",
    "    l_2.append([i])\n",
    "for j in range(3,6):\n",
    "    l_2.append([j])\n",
    "for g in range(4,7):\n",
    "    l_2.append([g])\n",
    "print(l_2)\n",
    "\n",
    "#\n",
    "l_3 = []\n",
    "lst = []\n",
    "for i in range(2,6):\n",
    "    lst.append(i)\n",
    "l_3.append(lst)\n",
    "\n",
    "ll =[]\n",
    "for j in range(3,7):\n",
    "    ll.append(j)\n",
    "l_3.append(ll)\n",
    "\n",
    "llp = []\n",
    "for g in range(4,8):\n",
    "    llp.append(g)\n",
    "l_3.append(llp)\n",
    "\n",
    "lllp = []\n",
    "for k in range(5,9):\n",
    "    lllp.append(k)\n",
    "l_3.append(lllp)\n",
    "\n",
    "print(l_3)\n",
    "\n",
    "#\n",
    "l_4 = []\n",
    "for i in range(3):\n",
    "    l_4.append((1, i+1))\n",
    "    l_4.append((2, i+1))\n",
    "    l_4.append((3, i+1))\n",
    "print(l_4)\n",
    "               "
   ]
  },
  {
   "cell_type": "code",
   "execution_count": 33,
   "metadata": {},
   "outputs": [
    {
     "data": {
      "text/plain": [
       "'Prajapati'"
      ]
     },
     "execution_count": 33,
     "metadata": {},
     "output_type": "execute_result"
    }
   ],
   "source": [
    "# 3\n",
    "words = ['Brijesh', 'Prajapati', 'ramu', 'ksdn', 'cjdn', 'dk']\n",
    "def longestWord(l):\n",
    "    max =''\n",
    "    for i in l:\n",
    "        if len(i)> len(max):\n",
    "            max = i\n",
    "    return max\n",
    "longestWord(l)       "
   ]
  },
  {
   "cell_type": "markdown",
   "metadata": {},
   "source": [
    "# Task 2"
   ]
  },
  {
   "cell_type": "code",
   "execution_count": 6,
   "metadata": {},
   "outputs": [],
   "source": [
    "# 1.1\n",
    "class area:\n",
    "    def __init__(self, side1, side2, side3):\n",
    "        self.a = side1\n",
    "        self.b = side2\n",
    "        self.c = side3\n",
    "    def traingle(self, s):\n",
    "        return (s*(s-self.a)*(s-self.b)*(s-self.c)) ** 0.5"
   ]
  },
  {
   "cell_type": "code",
   "execution_count": 7,
   "metadata": {},
   "outputs": [
    {
     "data": {
      "text/plain": [
       "24.49489742783178"
      ]
     },
     "execution_count": 7,
     "metadata": {},
     "output_type": "execute_result"
    }
   ],
   "source": [
    "t = area(5,6,7)\n",
    "t.traingle(10)"
   ]
  },
  {
   "cell_type": "code",
   "execution_count": 46,
   "metadata": {},
   "outputs": [
    {
     "data": {
      "text/plain": [
       "['Brijesh', 'Prajapati', 'ramu', 'ksdn', 'cjdn', 'dkjkjnc', 'sjnv']"
      ]
     },
     "execution_count": 46,
     "metadata": {},
     "output_type": "execute_result"
    }
   ],
   "source": [
    "# 1.2\n",
    "words = ['Brijesh', 'Prajapati', 'ramu', 'ksdn', 'cjdn', 'dk', 'dkjkjnc', 'sjnv', 'jc', 'sks'] \n",
    "def filter_long_words(l, n):\n",
    "    lst = []\n",
    "    for i in l:\n",
    "        if len(i) > n:\n",
    "            lst.append(i)\n",
    "    return lst\n",
    "filter_long_words(words, 3)"
   ]
  },
  {
   "cell_type": "code",
   "execution_count": 1,
   "metadata": {},
   "outputs": [
    {
     "data": {
      "text/plain": [
       "[2, 3, 4]"
      ]
     },
     "execution_count": 1,
     "metadata": {},
     "output_type": "execute_result"
    }
   ],
   "source": [
    "# 2.1\n",
    "l_1 = ['ab','cde','erty']\n",
    "def test(l):\n",
    "    lst = []\n",
    "    for i in l:\n",
    "        lst.append(len(i))\n",
    "    return lst\n",
    "test(l_1)\n",
    "\n"
   ]
  },
  {
   "cell_type": "code",
   "execution_count": 4,
   "metadata": {},
   "outputs": [
    {
     "data": {
      "text/plain": [
       "False"
      ]
     },
     "execution_count": 4,
     "metadata": {},
     "output_type": "execute_result"
    }
   ],
   "source": [
    "# 2.2\n",
    "def voweltest(x):\n",
    "    l = ['a', 'e', 'i', 'o', 'u']\n",
    "    if len(x) == 1:\n",
    "        if x.endswith('a') or x.endswith('e') or x.endswith('u') or x.endswith('i') or x.endswith('u'):\n",
    "            return True\n",
    "        else:\n",
    "            return False\n",
    "    else:\n",
    "        return False\n",
    "voweltest('j')"
   ]
  },
  {
   "cell_type": "code",
   "execution_count": null,
   "metadata": {},
   "outputs": [],
   "source": []
  }
 ],
 "metadata": {
  "kernelspec": {
   "display_name": "Python 3",
   "language": "python",
   "name": "python3"
  },
  "language_info": {
   "codemirror_mode": {
    "name": "ipython",
    "version": 3
   },
   "file_extension": ".py",
   "mimetype": "text/x-python",
   "name": "python",
   "nbconvert_exporter": "python",
   "pygments_lexer": "ipython3",
   "version": "3.7.6"
  },
  "varInspector": {
   "cols": {
    "lenName": 16,
    "lenType": 16,
    "lenVar": 40
   },
   "kernels_config": {
    "python": {
     "delete_cmd_postfix": "",
     "delete_cmd_prefix": "del ",
     "library": "var_list.py",
     "varRefreshCmd": "print(var_dic_list())"
    },
    "r": {
     "delete_cmd_postfix": ") ",
     "delete_cmd_prefix": "rm(",
     "library": "var_list.r",
     "varRefreshCmd": "cat(var_dic_list()) "
    }
   },
   "types_to_exclude": [
    "module",
    "function",
    "builtin_function_or_method",
    "instance",
    "_Feature"
   ],
   "window_display": false
  }
 },
 "nbformat": 4,
 "nbformat_minor": 4
}
